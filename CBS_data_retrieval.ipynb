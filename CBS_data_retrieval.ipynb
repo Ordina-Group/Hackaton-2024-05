{
 "cells": [
  {
   "cell_type": "code",
   "execution_count": 1,
   "metadata": {},
   "outputs": [
    {
     "name": "stdout",
     "output_type": "stream",
     "text": [
      "Fetching data...\n",
      "\n",
      "\n",
      "Retrieve TableInfos by using: output[\"TableInfos\"]\n",
      "Retrieve UntypedDataSet by using: output[\"UntypedDataSet\"]\n",
      "Retrieve TypedDataSet by using: output[\"TypedDataSet\"]\n",
      "Retrieve DataProperties by using: output[\"DataProperties\"]\n",
      "Retrieve CategoryGroups by using: output[\"CategoryGroups\"]\n",
      "Retrieve BedrijfstakkenWoningen by using: output[\"BedrijfstakkenWoningen\"]\n",
      "Retrieve RegioS by using: output[\"RegioS\"]\n",
      "Retrieve Perioden by using: output[\"Perioden\"]\n"
     ]
    }
   ],
   "source": [
    "from cbs import CBSDataFetcher\n",
    "url = \"https://opendata.cbs.nl/ODataApi/OData/84783NED\"\n",
    "cbs = CBSDataFetcher(url)\n",
    "output = cbs.return_data()\n",
    "\n"
   ]
  }
 ],
 "metadata": {
  "kernelspec": {
   "display_name": "Python 3",
   "language": "python",
   "name": "python3"
  },
  "language_info": {
   "codemirror_mode": {
    "name": "ipython",
    "version": 3
   },
   "file_extension": ".py",
   "mimetype": "text/x-python",
   "name": "python",
   "nbconvert_exporter": "python",
   "pygments_lexer": "ipython3",
   "version": "3.11.9"
  }
 },
 "nbformat": 4,
 "nbformat_minor": 2
}
